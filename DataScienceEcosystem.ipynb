{
 "cells": [
  {
   "cell_type": "markdown",
   "id": "4928cc9e-ff75-43ed-abd7-2595f7d15c59",
   "metadata": {},
   "source": [
    "# Data Science Tools and Ecosystem"
   ]
  },
  {
   "cell_type": "markdown",
   "id": "a0f3a86b-4c75-44dc-bb51-5c1647ac4d3d",
   "metadata": {},
   "source": [
    "In this notebook, Data Science Tools and Ecosystem are summarized."
   ]
  },
  {
   "cell_type": "markdown",
   "id": "6a624ff5-a0ef-43e9-b871-a8cc2adae629",
   "metadata": {},
   "source": [
    "Some of the popular languages that Data Scientists use are:\n",
    "1. R language\n",
    "2. SQL \n",
    "3. Python"
   ]
  },
  {
   "cell_type": "markdown",
   "id": "278679f9-8e53-43fc-a92e-bcb030384c1d",
   "metadata": {},
   "source": [
    "Some of the commonly used libraries used by Data Scientists include:\n",
    "1. Pandas\n",
    "2. Numpy\n",
    "3. matplotlib\n",
    "4. keras"
   ]
  },
  {
   "cell_type": "markdown",
   "id": "6e6f3390-5e8a-4ab2-9f73-7544b9ba2cb2",
   "metadata": {},
   "source": [
    "|Data Science Tools|\n",
    "|:-----------------|\n",
    "|Jupyter Notebook|\n",
    "|Rstudio|\n",
    "|Tensorflow|"
   ]
  },
  {
   "cell_type": "markdown",
   "id": "4b209135-6a31-483c-b54d-79197a38a7ae",
   "metadata": {},
   "source": [
    "### Below are a few examples of evaluating arithmetic expressions in Python."
   ]
  },
  {
   "cell_type": "code",
   "execution_count": 9,
   "id": "37777a02-e777-425a-99a9-0fe7a0853219",
   "metadata": {},
   "outputs": [
    {
     "data": {
      "text/plain": [
       "17"
      ]
     },
     "execution_count": 9,
     "metadata": {},
     "output_type": "execute_result"
    }
   ],
   "source": [
    "# This a simple arithmetic expression to mutiply then add integers.\n",
    "(3*4)+5"
   ]
  },
  {
   "cell_type": "code",
   "execution_count": 6,
   "id": "ffce9f3f-1e82-4de4-99ed-2f45a13bc432",
   "metadata": {},
   "outputs": [
    {
     "name": "stdout",
     "output_type": "stream",
     "text": [
      "3.3333333333333335\n"
     ]
    }
   ],
   "source": [
    "# This will convert 200 minutes to hours by diving by 60.\n",
    "minutes = 200\n",
    "hours = minutes / 60\n",
    "print(hours)"
   ]
  },
  {
   "cell_type": "markdown",
   "id": "9a3e70f0-8efe-400e-8e85-b5c2f9e28def",
   "metadata": {},
   "source": [
    "__Objectives:__\n",
    "- List popular languages for Data Science\n",
    "- Create statements using formulas\n",
    "- Identify commonly used data science  libraries\n",
    "- Including comments in codes.\n"
   ]
  },
  {
   "cell_type": "markdown",
   "id": "6af2aeca-4533-4adb-bfb5-9272a9771f32",
   "metadata": {},
   "source": [
    "## Author\n",
    "Chaimae"
   ]
  },
  {
   "cell_type": "code",
   "execution_count": null,
   "id": "c5c2a2a1-e4a0-4e82-bb4c-509608be4c1c",
   "metadata": {},
   "outputs": [],
   "source": []
  }
 ],
 "metadata": {
  "kernelspec": {
   "display_name": "Python 3 (ipykernel)",
   "language": "python",
   "name": "python3"
  },
  "language_info": {
   "codemirror_mode": {
    "name": "ipython",
    "version": 3
   },
   "file_extension": ".py",
   "mimetype": "text/x-python",
   "name": "python",
   "nbconvert_exporter": "python",
   "pygments_lexer": "ipython3",
   "version": "3.12.8"
  }
 },
 "nbformat": 4,
 "nbformat_minor": 5
}
